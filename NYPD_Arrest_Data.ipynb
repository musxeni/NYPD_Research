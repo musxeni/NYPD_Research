{
 "cells": [
  {
   "cell_type": "markdown",
   "metadata": {},
   "source": [
    "##### What are the crimes that take place in NYC? \n",
    "##### What day do they take place the most? \n",
    "##### What is the make up of the Age group by crime?"
   ]
  },
  {
   "cell_type": "code",
   "execution_count": 2,
   "metadata": {},
   "outputs": [],
   "source": [
    "#Import the required libraries  \n",
    "import pandas as pd     #(version 1.0.0)\n",
    "import plotly           #(version 4.5.4) #pip install plotly==4.5.4\n",
    "import plotly.express as px\n",
    "import plotly.io as pio"
   ]
  },
  {
   "cell_type": "code",
   "execution_count": 41,
   "metadata": {},
   "outputs": [],
   "source": [
    "from jupyter_dash import JupyterDash\n",
    "from dash import dcc\n",
    "from dash import html\n",
    "from dash.dependencies import Input, Output\n",
    "import dash"
   ]
  },
  {
   "cell_type": "code",
   "execution_count": 67,
   "metadata": {},
   "outputs": [],
   "source": [
    "import numpy as np"
   ]
  },
  {
   "cell_type": "markdown",
   "metadata": {},
   "source": [
    "The data is taken from the open data project from NYC. It can be found [here](https://data.cityofnewyork.us/Public-Safety/NYPD-Arrest-Data-Year-to-Date-/uip8-fykc \"NYPD Data\")"
   ]
  },
  {
   "cell_type": "code",
   "execution_count": null,
   "metadata": {},
   "outputs": [],
   "source": [
    "url = 'NYPD_Arrest_Data.csv'\n",
    "df = pd.read_csv(url)\n",
    "df\n"
   ]
  },
  {
   "cell_type": "markdown",
   "metadata": {},
   "source": [
    "I will convert the year column into datatime format and create several columns that break the date down by Month,Year \n",
    "and day of the week for furthur analysis."
   ]
  },
  {
   "cell_type": "code",
   "execution_count": 4,
   "metadata": {},
   "outputs": [],
   "source": [
    "df['ARREST_DATE'] = pd.to_datetime(df['ARREST_DATE'])"
   ]
  },
  {
   "cell_type": "code",
   "execution_count": 5,
   "metadata": {},
   "outputs": [],
   "source": [
    "day_name = df['ARREST_DATE'].dt.day_name()"
   ]
  },
  {
   "cell_type": "code",
   "execution_count": 6,
   "metadata": {},
   "outputs": [],
   "source": [
    "df.insert(2,'WEEKDAY',day_name)"
   ]
  },
  {
   "cell_type": "code",
   "execution_count": null,
   "metadata": {},
   "outputs": [],
   "source": [
    "df"
   ]
  },
  {
   "cell_type": "code",
   "execution_count": 8,
   "metadata": {},
   "outputs": [
    {
     "data": {
      "text/html": [
       "<div>\n",
       "<style scoped>\n",
       "    .dataframe tbody tr th:only-of-type {\n",
       "        vertical-align: middle;\n",
       "    }\n",
       "\n",
       "    .dataframe tbody tr th {\n",
       "        vertical-align: top;\n",
       "    }\n",
       "\n",
       "    .dataframe thead th {\n",
       "        text-align: right;\n",
       "    }\n",
       "</style>\n",
       "<table border=\"1\" class=\"dataframe\">\n",
       "  <thead>\n",
       "    <tr style=\"text-align: right;\">\n",
       "      <th></th>\n",
       "      <th>ARREST_KEY</th>\n",
       "      <th>ARREST_DATE</th>\n",
       "      <th>DAY_OF_THE_WEEK</th>\n",
       "      <th>PD_CD</th>\n",
       "      <th>PD_DESC</th>\n",
       "      <th>KY_CD</th>\n",
       "      <th>OFNS_DESC</th>\n",
       "      <th>LAW_CODE</th>\n",
       "      <th>LAW_CAT_CD</th>\n",
       "      <th>ARREST_BORO</th>\n",
       "      <th>ARREST_PRECINCT</th>\n",
       "      <th>JURISDICTION_CODE</th>\n",
       "      <th>AGE_GROUP</th>\n",
       "      <th>PERP_SEX</th>\n",
       "      <th>PERP_RACE</th>\n",
       "      <th>X_COORD_CD</th>\n",
       "      <th>Y_COORD_CD</th>\n",
       "      <th>Latitude</th>\n",
       "      <th>Longitude</th>\n",
       "      <th>New Georeferenced Column</th>\n",
       "    </tr>\n",
       "  </thead>\n",
       "  <tbody>\n",
       "    <tr>\n",
       "      <th>0</th>\n",
       "      <td>234233843</td>\n",
       "      <td>2021-09-29</td>\n",
       "      <td>Wednesday</td>\n",
       "      <td>105.0</td>\n",
       "      <td>STRANGULATION 1ST</td>\n",
       "      <td>106.0</td>\n",
       "      <td>FELONY ASSAULT</td>\n",
       "      <td>PL 1211200</td>\n",
       "      <td>F</td>\n",
       "      <td>B</td>\n",
       "      <td>42</td>\n",
       "      <td>0</td>\n",
       "      <td>25-44</td>\n",
       "      <td>M</td>\n",
       "      <td>BLACK</td>\n",
       "      <td>1009231</td>\n",
       "      <td>240290</td>\n",
       "      <td>40.826189</td>\n",
       "      <td>-73.909738</td>\n",
       "      <td>POINT (-73.90973778899996 40.82618898100003)</td>\n",
       "    </tr>\n",
       "    <tr>\n",
       "      <th>1</th>\n",
       "      <td>234129823</td>\n",
       "      <td>2021-09-27</td>\n",
       "      <td>Monday</td>\n",
       "      <td>157.0</td>\n",
       "      <td>RAPE 1</td>\n",
       "      <td>104.0</td>\n",
       "      <td>RAPE</td>\n",
       "      <td>PL 1303501</td>\n",
       "      <td>F</td>\n",
       "      <td>K</td>\n",
       "      <td>77</td>\n",
       "      <td>0</td>\n",
       "      <td>25-44</td>\n",
       "      <td>M</td>\n",
       "      <td>BLACK</td>\n",
       "      <td>1003606</td>\n",
       "      <td>185050</td>\n",
       "      <td>40.674583</td>\n",
       "      <td>-73.930222</td>\n",
       "      <td>POINT (-73.93022154099998 40.67458330800008)</td>\n",
       "    </tr>\n",
       "    <tr>\n",
       "      <th>2</th>\n",
       "      <td>234040747</td>\n",
       "      <td>2021-09-25</td>\n",
       "      <td>Saturday</td>\n",
       "      <td>109.0</td>\n",
       "      <td>ASSAULT 2,1,UNCLASSIFIED</td>\n",
       "      <td>106.0</td>\n",
       "      <td>FELONY ASSAULT</td>\n",
       "      <td>PL 1200501</td>\n",
       "      <td>F</td>\n",
       "      <td>Q</td>\n",
       "      <td>101</td>\n",
       "      <td>0</td>\n",
       "      <td>25-44</td>\n",
       "      <td>M</td>\n",
       "      <td>BLACK</td>\n",
       "      <td>1049232</td>\n",
       "      <td>159210</td>\n",
       "      <td>40.603441</td>\n",
       "      <td>-73.765986</td>\n",
       "      <td>POINT (-73.76598558899997 40.60344094100003)</td>\n",
       "    </tr>\n",
       "    <tr>\n",
       "      <th>3</th>\n",
       "      <td>234047720</td>\n",
       "      <td>2021-09-25</td>\n",
       "      <td>Saturday</td>\n",
       "      <td>101.0</td>\n",
       "      <td>ASSAULT 3</td>\n",
       "      <td>344.0</td>\n",
       "      <td>ASSAULT 3 &amp; RELATED OFFENSES</td>\n",
       "      <td>PL 1200001</td>\n",
       "      <td>M</td>\n",
       "      <td>B</td>\n",
       "      <td>44</td>\n",
       "      <td>0</td>\n",
       "      <td>25-44</td>\n",
       "      <td>M</td>\n",
       "      <td>BLACK</td>\n",
       "      <td>1006537</td>\n",
       "      <td>244511</td>\n",
       "      <td>40.837782</td>\n",
       "      <td>-73.919458</td>\n",
       "      <td>POINT (-73.91945797099999 40.83778161800007)</td>\n",
       "    </tr>\n",
       "    <tr>\n",
       "      <th>4</th>\n",
       "      <td>234042526</td>\n",
       "      <td>2021-09-25</td>\n",
       "      <td>Saturday</td>\n",
       "      <td>101.0</td>\n",
       "      <td>ASSAULT 3</td>\n",
       "      <td>344.0</td>\n",
       "      <td>ASSAULT 3 &amp; RELATED OFFENSES</td>\n",
       "      <td>PL 1200001</td>\n",
       "      <td>M</td>\n",
       "      <td>B</td>\n",
       "      <td>44</td>\n",
       "      <td>0</td>\n",
       "      <td>25-44</td>\n",
       "      <td>M</td>\n",
       "      <td>BLACK</td>\n",
       "      <td>1007418</td>\n",
       "      <td>243859</td>\n",
       "      <td>40.835990</td>\n",
       "      <td>-73.916276</td>\n",
       "      <td>POINT (-73.91627635999998 40.83598980000005)</td>\n",
       "    </tr>\n",
       "    <tr>\n",
       "      <th>...</th>\n",
       "      <td>...</td>\n",
       "      <td>...</td>\n",
       "      <td>...</td>\n",
       "      <td>...</td>\n",
       "      <td>...</td>\n",
       "      <td>...</td>\n",
       "      <td>...</td>\n",
       "      <td>...</td>\n",
       "      <td>...</td>\n",
       "      <td>...</td>\n",
       "      <td>...</td>\n",
       "      <td>...</td>\n",
       "      <td>...</td>\n",
       "      <td>...</td>\n",
       "      <td>...</td>\n",
       "      <td>...</td>\n",
       "      <td>...</td>\n",
       "      <td>...</td>\n",
       "      <td>...</td>\n",
       "      <td>...</td>\n",
       "    </tr>\n",
       "    <tr>\n",
       "      <th>115294</th>\n",
       "      <td>222689440</td>\n",
       "      <td>2021-01-06</td>\n",
       "      <td>Wednesday</td>\n",
       "      <td>109.0</td>\n",
       "      <td>ASSAULT 2,1,UNCLASSIFIED</td>\n",
       "      <td>106.0</td>\n",
       "      <td>FELONY ASSAULT</td>\n",
       "      <td>PL 1200501</td>\n",
       "      <td>F</td>\n",
       "      <td>Q</td>\n",
       "      <td>102</td>\n",
       "      <td>0</td>\n",
       "      <td>18-24</td>\n",
       "      <td>M</td>\n",
       "      <td>ASIAN / PACIFIC ISLANDER</td>\n",
       "      <td>1031076</td>\n",
       "      <td>193779</td>\n",
       "      <td>40.698440</td>\n",
       "      <td>-73.831130</td>\n",
       "      <td>POINT (-73.83112953899997 40.69843969400005)</td>\n",
       "    </tr>\n",
       "    <tr>\n",
       "      <th>115295</th>\n",
       "      <td>222626401</td>\n",
       "      <td>2021-01-05</td>\n",
       "      <td>Tuesday</td>\n",
       "      <td>109.0</td>\n",
       "      <td>ASSAULT 2,1,UNCLASSIFIED</td>\n",
       "      <td>106.0</td>\n",
       "      <td>FELONY ASSAULT</td>\n",
       "      <td>PL 1200502</td>\n",
       "      <td>F</td>\n",
       "      <td>B</td>\n",
       "      <td>49</td>\n",
       "      <td>0</td>\n",
       "      <td>25-44</td>\n",
       "      <td>M</td>\n",
       "      <td>BLACK HISPANIC</td>\n",
       "      <td>1027430</td>\n",
       "      <td>251105</td>\n",
       "      <td>40.855803</td>\n",
       "      <td>-73.843910</td>\n",
       "      <td>POINT (-73.84390995399998 40.85580274300003)</td>\n",
       "    </tr>\n",
       "    <tr>\n",
       "      <th>115296</th>\n",
       "      <td>222477062</td>\n",
       "      <td>2021-01-01</td>\n",
       "      <td>Friday</td>\n",
       "      <td>922.0</td>\n",
       "      <td>TRAFFIC,UNCLASSIFIED MISDEMEAN</td>\n",
       "      <td>348.0</td>\n",
       "      <td>VEHICLE AND TRAFFIC LAWS</td>\n",
       "      <td>VTL0511001</td>\n",
       "      <td>M</td>\n",
       "      <td>B</td>\n",
       "      <td>50</td>\n",
       "      <td>0</td>\n",
       "      <td>25-44</td>\n",
       "      <td>M</td>\n",
       "      <td>WHITE HISPANIC</td>\n",
       "      <td>1011047</td>\n",
       "      <td>256269</td>\n",
       "      <td>40.870041</td>\n",
       "      <td>-73.903112</td>\n",
       "      <td>POINT (-73.90311219699998 40.870041281000056)</td>\n",
       "    </tr>\n",
       "    <tr>\n",
       "      <th>115297</th>\n",
       "      <td>222728174</td>\n",
       "      <td>2021-01-07</td>\n",
       "      <td>Thursday</td>\n",
       "      <td>339.0</td>\n",
       "      <td>LARCENY,PETIT FROM OPEN AREAS,</td>\n",
       "      <td>341.0</td>\n",
       "      <td>PETIT LARCENY</td>\n",
       "      <td>PL 1552500</td>\n",
       "      <td>M</td>\n",
       "      <td>Q</td>\n",
       "      <td>114</td>\n",
       "      <td>0</td>\n",
       "      <td>25-44</td>\n",
       "      <td>M</td>\n",
       "      <td>WHITE HISPANIC</td>\n",
       "      <td>1007694</td>\n",
       "      <td>219657</td>\n",
       "      <td>40.769561</td>\n",
       "      <td>-73.915363</td>\n",
       "      <td>POINT (-73.91536344699995 40.76956124200007)</td>\n",
       "    </tr>\n",
       "    <tr>\n",
       "      <th>115298</th>\n",
       "      <td>222535613</td>\n",
       "      <td>2021-01-03</td>\n",
       "      <td>Sunday</td>\n",
       "      <td>792.0</td>\n",
       "      <td>WEAPONS POSSESSION 1 &amp; 2</td>\n",
       "      <td>118.0</td>\n",
       "      <td>DANGEROUS WEAPONS</td>\n",
       "      <td>PL 265031B</td>\n",
       "      <td>F</td>\n",
       "      <td>K</td>\n",
       "      <td>67</td>\n",
       "      <td>0</td>\n",
       "      <td>25-44</td>\n",
       "      <td>M</td>\n",
       "      <td>BLACK</td>\n",
       "      <td>1000054</td>\n",
       "      <td>173952</td>\n",
       "      <td>40.644129</td>\n",
       "      <td>-73.943053</td>\n",
       "      <td>POINT (-73.94305278599995 40.64412879400004)</td>\n",
       "    </tr>\n",
       "  </tbody>\n",
       "</table>\n",
       "<p>115299 rows × 20 columns</p>\n",
       "</div>"
      ],
      "text/plain": [
       "        ARREST_KEY ARREST_DATE DAY_OF_THE_WEEK  PD_CD  \\\n",
       "0        234233843  2021-09-29       Wednesday  105.0   \n",
       "1        234129823  2021-09-27          Monday  157.0   \n",
       "2        234040747  2021-09-25        Saturday  109.0   \n",
       "3        234047720  2021-09-25        Saturday  101.0   \n",
       "4        234042526  2021-09-25        Saturday  101.0   \n",
       "...            ...         ...             ...    ...   \n",
       "115294   222689440  2021-01-06       Wednesday  109.0   \n",
       "115295   222626401  2021-01-05         Tuesday  109.0   \n",
       "115296   222477062  2021-01-01          Friday  922.0   \n",
       "115297   222728174  2021-01-07        Thursday  339.0   \n",
       "115298   222535613  2021-01-03          Sunday  792.0   \n",
       "\n",
       "                               PD_DESC  KY_CD                     OFNS_DESC  \\\n",
       "0                    STRANGULATION 1ST  106.0                FELONY ASSAULT   \n",
       "1                               RAPE 1  104.0                          RAPE   \n",
       "2             ASSAULT 2,1,UNCLASSIFIED  106.0                FELONY ASSAULT   \n",
       "3                            ASSAULT 3  344.0  ASSAULT 3 & RELATED OFFENSES   \n",
       "4                            ASSAULT 3  344.0  ASSAULT 3 & RELATED OFFENSES   \n",
       "...                                ...    ...                           ...   \n",
       "115294        ASSAULT 2,1,UNCLASSIFIED  106.0                FELONY ASSAULT   \n",
       "115295        ASSAULT 2,1,UNCLASSIFIED  106.0                FELONY ASSAULT   \n",
       "115296  TRAFFIC,UNCLASSIFIED MISDEMEAN  348.0      VEHICLE AND TRAFFIC LAWS   \n",
       "115297  LARCENY,PETIT FROM OPEN AREAS,  341.0                 PETIT LARCENY   \n",
       "115298        WEAPONS POSSESSION 1 & 2  118.0             DANGEROUS WEAPONS   \n",
       "\n",
       "          LAW_CODE LAW_CAT_CD ARREST_BORO  ARREST_PRECINCT  JURISDICTION_CODE  \\\n",
       "0       PL 1211200          F           B               42                  0   \n",
       "1       PL 1303501          F           K               77                  0   \n",
       "2       PL 1200501          F           Q              101                  0   \n",
       "3       PL 1200001          M           B               44                  0   \n",
       "4       PL 1200001          M           B               44                  0   \n",
       "...            ...        ...         ...              ...                ...   \n",
       "115294  PL 1200501          F           Q              102                  0   \n",
       "115295  PL 1200502          F           B               49                  0   \n",
       "115296  VTL0511001          M           B               50                  0   \n",
       "115297  PL 1552500          M           Q              114                  0   \n",
       "115298  PL 265031B          F           K               67                  0   \n",
       "\n",
       "       AGE_GROUP PERP_SEX                 PERP_RACE  X_COORD_CD  Y_COORD_CD  \\\n",
       "0          25-44        M                     BLACK     1009231      240290   \n",
       "1          25-44        M                     BLACK     1003606      185050   \n",
       "2          25-44        M                     BLACK     1049232      159210   \n",
       "3          25-44        M                     BLACK     1006537      244511   \n",
       "4          25-44        M                     BLACK     1007418      243859   \n",
       "...          ...      ...                       ...         ...         ...   \n",
       "115294     18-24        M  ASIAN / PACIFIC ISLANDER     1031076      193779   \n",
       "115295     25-44        M            BLACK HISPANIC     1027430      251105   \n",
       "115296     25-44        M            WHITE HISPANIC     1011047      256269   \n",
       "115297     25-44        M            WHITE HISPANIC     1007694      219657   \n",
       "115298     25-44        M                     BLACK     1000054      173952   \n",
       "\n",
       "         Latitude  Longitude                       New Georeferenced Column  \n",
       "0       40.826189 -73.909738   POINT (-73.90973778899996 40.82618898100003)  \n",
       "1       40.674583 -73.930222   POINT (-73.93022154099998 40.67458330800008)  \n",
       "2       40.603441 -73.765986   POINT (-73.76598558899997 40.60344094100003)  \n",
       "3       40.837782 -73.919458   POINT (-73.91945797099999 40.83778161800007)  \n",
       "4       40.835990 -73.916276   POINT (-73.91627635999998 40.83598980000005)  \n",
       "...           ...        ...                                            ...  \n",
       "115294  40.698440 -73.831130   POINT (-73.83112953899997 40.69843969400005)  \n",
       "115295  40.855803 -73.843910   POINT (-73.84390995399998 40.85580274300003)  \n",
       "115296  40.870041 -73.903112  POINT (-73.90311219699998 40.870041281000056)  \n",
       "115297  40.769561 -73.915363   POINT (-73.91536344699995 40.76956124200007)  \n",
       "115298  40.644129 -73.943053   POINT (-73.94305278599995 40.64412879400004)  \n",
       "\n",
       "[115299 rows x 20 columns]"
      ]
     },
     "execution_count": 8,
     "metadata": {},
     "output_type": "execute_result"
    }
   ],
   "source": [
    "df.rename(columns= {'WEEKDAY':'DAY_OF_THE_WEEK'},inplace = True)\n",
    "df"
   ]
  },
  {
   "cell_type": "code",
   "execution_count": 9,
   "metadata": {},
   "outputs": [],
   "source": [
    "month = df['ARREST_DATE'].dt.strftime('%B')"
   ]
  },
  {
   "cell_type": "code",
   "execution_count": 10,
   "metadata": {},
   "outputs": [],
   "source": [
    "df.insert(3,'MONTH',month)"
   ]
  },
  {
   "cell_type": "code",
   "execution_count": null,
   "metadata": {},
   "outputs": [],
   "source": [
    "df"
   ]
  },
  {
   "cell_type": "code",
   "execution_count": 12,
   "metadata": {},
   "outputs": [],
   "source": [
    "day = df['ARREST_DATE'].dt.day"
   ]
  },
  {
   "cell_type": "code",
   "execution_count": 13,
   "metadata": {},
   "outputs": [],
   "source": [
    "df.insert(4,'DAY',day)"
   ]
  },
  {
   "cell_type": "code",
   "execution_count": null,
   "metadata": {},
   "outputs": [],
   "source": [
    "df"
   ]
  },
  {
   "cell_type": "code",
   "execution_count": 15,
   "metadata": {},
   "outputs": [],
   "source": [
    "df['MONTH_AS_NUMBER'] = pd.DatetimeIndex(df['ARREST_DATE']).month"
   ]
  },
  {
   "cell_type": "code",
   "execution_count": null,
   "metadata": {},
   "outputs": [],
   "source": [
    "df"
   ]
  },
  {
   "cell_type": "code",
   "execution_count": 17,
   "metadata": {},
   "outputs": [],
   "source": [
    "df['WEEKDAY_AS_NUMBER'] = df['ARREST_DATE'].dt.dayofweek"
   ]
  },
  {
   "cell_type": "markdown",
   "metadata": {},
   "source": [
    "So I can see all rows I am working with i use the set_option function. "
   ]
  },
  {
   "cell_type": "code",
   "execution_count": 18,
   "metadata": {},
   "outputs": [],
   "source": [
    "pd.set_option('display.max_columns', None)"
   ]
  },
  {
   "cell_type": "markdown",
   "metadata": {},
   "source": [
    "I will now confim my work with dtypes"
   ]
  },
  {
   "cell_type": "code",
   "execution_count": 20,
   "metadata": {},
   "outputs": [
    {
     "data": {
      "text/plain": [
       "ARREST_KEY                           int64\n",
       "ARREST_DATE                 datetime64[ns]\n",
       "DAY_OF_THE_WEEK                     object\n",
       "MONTH                               object\n",
       "DAY                                  int64\n",
       "PD_CD                              float64\n",
       "PD_DESC                             object\n",
       "KY_CD                              float64\n",
       "OFNS_DESC                           object\n",
       "LAW_CODE                            object\n",
       "LAW_CAT_CD                          object\n",
       "ARREST_BORO                         object\n",
       "ARREST_PRECINCT                      int64\n",
       "JURISDICTION_CODE                    int64\n",
       "AGE_GROUP                           object\n",
       "PERP_SEX                            object\n",
       "PERP_RACE                           object\n",
       "X_COORD_CD                           int64\n",
       "Y_COORD_CD                           int64\n",
       "Latitude                           float64\n",
       "Longitude                          float64\n",
       "New Georeferenced Column            object\n",
       "MONTH_AS_NUMBER                      int64\n",
       "WEEKDAY_AS_NUMBER                    int64\n",
       "dtype: object"
      ]
     },
     "execution_count": 20,
     "metadata": {},
     "output_type": "execute_result"
    }
   ],
   "source": [
    "df.dtypes"
   ]
  },
  {
   "cell_type": "code",
   "execution_count": null,
   "metadata": {},
   "outputs": [],
   "source": [
    "df"
   ]
  },
  {
   "cell_type": "markdown",
   "metadata": {},
   "source": [
    "The next columns will show my using several diffrent groupbys in order to view the data from diffrent angles. "
   ]
  },
  {
   "cell_type": "code",
   "execution_count": 21,
   "metadata": {},
   "outputs": [],
   "source": [
    "df_group = df.groupby(['ARREST_DATE'])"
   ]
  },
  {
   "cell_type": "code",
   "execution_count": 22,
   "metadata": {},
   "outputs": [],
   "source": [
    "df_crime_and_DayofWeek = df.groupby(['DAY_OF_THE_WEEK','OFNS_DESC']).count()"
   ]
  },
  {
   "cell_type": "code",
   "execution_count": 23,
   "metadata": {},
   "outputs": [
    {
     "data": {
      "text/plain": [
       "pandas.core.frame.DataFrame"
      ]
     },
     "execution_count": 23,
     "metadata": {},
     "output_type": "execute_result"
    }
   ],
   "source": [
    "type(df_crime_and_DayofWeek )"
   ]
  },
  {
   "cell_type": "code",
   "execution_count": 24,
   "metadata": {},
   "outputs": [],
   "source": [
    "extra = df.groupby(['DAY_OF_THE_WEEK','OFNS_DESC','AGE_GROUP','ARREST_BORO']).count().head(50)"
   ]
  },
  {
   "cell_type": "code",
   "execution_count": 25,
   "metadata": {},
   "outputs": [],
   "source": [
    "Brooklyn_df = df[df['ARREST_BORO']=='K']"
   ]
  },
  {
   "cell_type": "code",
   "execution_count": 26,
   "metadata": {},
   "outputs": [],
   "source": [
    "Brooklyn_df_group = Brooklyn_df.groupby(['DAY_OF_THE_WEEK','OFNS_DESC','AGE_GROUP'],as_index = False)['PERP_RACE'].sum()"
   ]
  },
  {
   "cell_type": "code",
   "execution_count": 27,
   "metadata": {},
   "outputs": [],
   "source": [
    "Brooklyn_df2 = df[df['ARREST_BORO']=='K']"
   ]
  },
  {
   "cell_type": "code",
   "execution_count": null,
   "metadata": {},
   "outputs": [],
   "source": [
    "Brooklyn_df2.groupby(['DAY_OF_THE_WEEK','PERP_SEX','OFNS_DESC'],as_index = False)[['AGE_GROUP','PERP_RACE']].sum()"
   ]
  },
  {
   "cell_type": "code",
   "execution_count": null,
   "metadata": {},
   "outputs": [],
   "source": [
    "Brooklyn_df2.groupby(['DAY_OF_THE_WEEK','AGE_GROUP','OFNS_DESC'],as_index = False)[['OFNS_DESC']].count()"
   ]
  },
  {
   "cell_type": "code",
   "execution_count": 30,
   "metadata": {},
   "outputs": [],
   "source": [
    "bk_groupby_2 = Brooklyn_df2.groupby(['DAY_OF_THE_WEEK','AGE_GROUP'],as_index = False)[['OFNS_DESC']].count()"
   ]
  },
  {
   "cell_type": "code",
   "execution_count": 31,
   "metadata": {},
   "outputs": [],
   "source": [
    "bk_groupby_2.rename(columns={'OFNS_DESC':'NUMBER_OF_OFFENDERS'},inplace=True)"
   ]
  },
  {
   "cell_type": "code",
   "execution_count": null,
   "metadata": {},
   "outputs": [],
   "source": [
    "bk_groupby_2"
   ]
  },
  {
   "cell_type": "code",
   "execution_count": 42,
   "metadata": {},
   "outputs": [],
   "source": [
    "bk_dash_df = Brooklyn_df2.groupby(['DAY_OF_THE_WEEK','OFNS_DESC',\"AGE_GROUP\"],as_index = False)['KY_CD'].count()"
   ]
  },
  {
   "cell_type": "code",
   "execution_count": 43,
   "metadata": {},
   "outputs": [],
   "source": [
    "bk_dash_df.rename(columns = {'KY_CD':'COUNT'},inplace = True)"
   ]
  },
  {
   "cell_type": "code",
   "execution_count": null,
   "metadata": {},
   "outputs": [],
   "source": [
    "bk_dash_df"
   ]
  },
  {
   "cell_type": "code",
   "execution_count": null,
   "metadata": {},
   "outputs": [],
   "source": [
    "bk_dash_df  "
   ]
  },
  {
   "cell_type": "code",
   "execution_count": 136,
   "metadata": {},
   "outputs": [],
   "source": [
    "p=bk_dash_df.groupby(['DAY_OF_THE_WEEK','OFNS_DESC','AGE_GROUP'],as_index = False).sum()"
   ]
  },
  {
   "cell_type": "code",
   "execution_count": 54,
   "metadata": {},
   "outputs": [],
   "source": [
    "bk_dash_df.to_csv(\"bk_dash_df.csv\", index=False, header=True)"
   ]
  },
  {
   "cell_type": "code",
   "execution_count": null,
   "metadata": {},
   "outputs": [],
   "source": [
    "bk_dash_df.pivot(columns=['AGE_GROUP','DAY_OF_THE_WEEK'])"
   ]
  },
  {
   "cell_type": "code",
   "execution_count": 89,
   "metadata": {},
   "outputs": [],
   "source": [
    "dk_dash_2 = bk_dash_df.pivot_table(index=['DAY_OF_THE_WEEK','OFNS_DESC'],columns=['AGE_GROUP'],values='COUNT',aggfunc=np.sum,fill_value=0)"
   ]
  },
  {
   "cell_type": "code",
   "execution_count": 93,
   "metadata": {},
   "outputs": [],
   "source": [
    "dk_dash_2.reset_index(inplace=True)"
   ]
  },
  {
   "cell_type": "code",
   "execution_count": null,
   "metadata": {},
   "outputs": [],
   "source": [
    "dk_dash_2"
   ]
  },
  {
   "cell_type": "code",
   "execution_count": null,
   "metadata": {},
   "outputs": [],
   "source": [
    "bk_dash_df"
   ]
  },
  {
   "cell_type": "code",
   "execution_count": null,
   "metadata": {},
   "outputs": [],
   "source": [
    "bk_groupby_2"
   ]
  },
  {
   "cell_type": "code",
   "execution_count": null,
   "metadata": {},
   "outputs": [],
   "source": [
    "dk_dash_2"
   ]
  },
  {
   "cell_type": "markdown",
   "metadata": {},
   "source": [
    "The below graph shows the total amount of crime that occured each day of the week from 2021-01-01 to 2021-09-30 per the NYPD. It has\n",
    "been split up in order to show which age groups commit crimes on each day of the week"
   ]
  },
  {
   "cell_type": "code",
   "execution_count": 189,
   "metadata": {},
   "outputs": [
    {
     "data": {
      "application/vnd.plotly.v1+json": {
       "config": {
        "plotlyServerURL": "https://plot.ly"
       },
       "data": [
        {
         "alignmentgroup": "True",
         "hovertemplate": "AGE_GROUP=18-24<br>DAY_OF_THE_WEEK=%{x}<br>NUMBER_OF_OFFENDERS=%{y}<extra></extra>",
         "legendgroup": "18-24",
         "marker": {
          "color": "#1F77B4",
          "opacity": 0.9,
          "pattern": {
           "shape": ""
          }
         },
         "name": "18-24",
         "offsetgroup": "18-24",
         "orientation": "v",
         "showlegend": true,
         "textposition": "auto",
         "type": "bar",
         "x": [
          "Friday",
          "Monday",
          "Saturday",
          "Sunday",
          "Thursday",
          "Tuesday",
          "Wednesday"
         ],
         "xaxis": "x",
         "y": [
          944,
          671,
          755,
          737,
          1005,
          991,
          1116
         ],
         "yaxis": "y"
        },
        {
         "alignmentgroup": "True",
         "hovertemplate": "AGE_GROUP=25-44<br>DAY_OF_THE_WEEK=%{x}<br>NUMBER_OF_OFFENDERS=%{y}<extra></extra>",
         "legendgroup": "25-44",
         "marker": {
          "color": "#FF7F0E",
          "opacity": 0.9,
          "pattern": {
           "shape": ""
          }
         },
         "name": "25-44",
         "offsetgroup": "25-44",
         "orientation": "v",
         "showlegend": true,
         "textposition": "auto",
         "type": "bar",
         "x": [
          "Friday",
          "Monday",
          "Saturday",
          "Sunday",
          "Thursday",
          "Tuesday",
          "Wednesday"
         ],
         "xaxis": "x",
         "y": [
          2514,
          2171,
          2157,
          2098,
          2920,
          2786,
          2982
         ],
         "yaxis": "y"
        },
        {
         "alignmentgroup": "True",
         "hovertemplate": "AGE_GROUP=45-64<br>DAY_OF_THE_WEEK=%{x}<br>NUMBER_OF_OFFENDERS=%{y}<extra></extra>",
         "legendgroup": "45-64",
         "marker": {
          "color": "#2CA02C",
          "opacity": 0.9,
          "pattern": {
           "shape": ""
          }
         },
         "name": "45-64",
         "offsetgroup": "45-64",
         "orientation": "v",
         "showlegend": true,
         "textposition": "auto",
         "type": "bar",
         "x": [
          "Friday",
          "Monday",
          "Saturday",
          "Sunday",
          "Thursday",
          "Tuesday",
          "Wednesday"
         ],
         "xaxis": "x",
         "y": [
          806,
          662,
          644,
          577,
          1059,
          935,
          952
         ],
         "yaxis": "y"
        },
        {
         "alignmentgroup": "True",
         "hovertemplate": "AGE_GROUP=65+<br>DAY_OF_THE_WEEK=%{x}<br>NUMBER_OF_OFFENDERS=%{y}<extra></extra>",
         "legendgroup": "65+",
         "marker": {
          "color": "#D62728",
          "opacity": 0.9,
          "pattern": {
           "shape": ""
          }
         },
         "name": "65+",
         "offsetgroup": "65+",
         "orientation": "v",
         "showlegend": true,
         "textposition": "auto",
         "type": "bar",
         "x": [
          "Friday",
          "Monday",
          "Saturday",
          "Sunday",
          "Thursday",
          "Tuesday",
          "Wednesday"
         ],
         "xaxis": "x",
         "y": [
          58,
          52,
          49,
          49,
          79,
          77,
          72
         ],
         "yaxis": "y"
        },
        {
         "alignmentgroup": "True",
         "hovertemplate": "AGE_GROUP=<18<br>DAY_OF_THE_WEEK=%{x}<br>NUMBER_OF_OFFENDERS=%{y}<extra></extra>",
         "legendgroup": "<18",
         "marker": {
          "color": "#9467BD",
          "opacity": 0.9,
          "pattern": {
           "shape": ""
          }
         },
         "name": "<18",
         "offsetgroup": "<18",
         "orientation": "v",
         "showlegend": true,
         "textposition": "auto",
         "type": "bar",
         "x": [
          "Friday",
          "Monday",
          "Saturday",
          "Sunday",
          "Thursday",
          "Tuesday",
          "Wednesday"
         ],
         "xaxis": "x",
         "y": [
          183,
          125,
          134,
          94,
          187,
          174,
          173
         ],
         "yaxis": "y"
        }
       ],
       "layout": {
        "barmode": "relative",
        "height": 720,
        "legend": {
         "title": {
          "text": "AGE_GROUP"
         },
         "tracegroupgap": 0
        },
        "template": {
         "data": {
          "pie": [
           {
            "automargin": true,
            "type": "pie"
           }
          ]
         },
         "layout": {
          "xaxis": {
           "showgrid": true,
           "title": {
            "standoff": 15
           }
          },
          "yaxis": {
           "showgrid": true,
           "title": {
            "standoff": 15
           }
          }
         }
        },
        "title": {
         "text": "Crime by day of the week and age group"
        },
        "width": 1400,
        "xaxis": {
         "anchor": "y",
         "domain": [
          0,
          1
         ],
         "title": {
          "text": "DAY_OF_THE_WEEK"
         }
        },
        "yaxis": {
         "anchor": "x",
         "domain": [
          0,
          1
         ],
         "title": {
          "text": "NUMBER_OF_OFFENDERS"
         }
        }
       }
      }
     },
     "metadata": {},
     "output_type": "display_data"
    }
   ],
   "source": [
    "barchart = px.bar(\n",
    "    data_frame=bk_groupby_2,\n",
    "    x=\"DAY_OF_THE_WEEK\",\n",
    "    y=\"NUMBER_OF_OFFENDERS\",\n",
    "    color=\"AGE_GROUP\",               \n",
    "    opacity=0.9,                  \n",
    "    orientation=\"v\",              # 'v','h': orientation of the marks\n",
    "    barmode='relative',           # in 'overlay' mode, bars are top of one another.\n",
    "                                  # in 'group' mode, bars are placed beside each other.\n",
    "                                  # in 'relative' mode, bars are stacked above (+) or below (-) zero.\n",
    "    #----------------------------------------------------------------------------------------------\n",
    "    # facet_row          # assign marks to subplots in the vertical direction\n",
    "    # facet_col=          # assigns marks to subplots in the horizontal direction\n",
    "    # facet_col_wrap,           # maximum number of subplot columns. Do not set facet_row!\n",
    "\n",
    "    # color_discrete_sequence,               # set specific marker colors. Color-colum data cannot be numeric\n",
    "    # color_discrete_map,     # map your chosen colors\n",
    "    # color_continuous_scale,       # set marker colors. When color colum is numeric data\n",
    "    # color_continuous_midpoint,                           # set desired midpoint. When colors=diverging\n",
    "    # range_color,                                   # set your own continuous color scale\n",
    "    #----------------------------------------------------------------------------------------------\n",
    "    # text=            # values appear in figure as text labels\n",
    "    # hover_name=,   # values appear in bold in the hover tooltip\n",
    "    # hover_data=,    # values appear as extra data in the hover tooltip\n",
    "    # custom_data=,     # invisible values that are extra data to be used in Dash callbacks or widgets\n",
    "\n",
    "    # log_x=                 # x-axis is log-scaled\n",
    "    # log_y=                 # y-axis is log-scaled\n",
    "    # error_y=\"err_plus\",         # y-axis error bars are symmetrical or for positive direction\n",
    "    # error_y_minus=\"err_minus\",  # y-axis error bars in the negative direction\n",
    "\n",
    "    #labels=,                      # map the labels of the figure\n",
    "    title='Crime by day of the week and age group', # figure title\n",
    "    width=1400,                   # figure width in pixels\n",
    "    height=720,                   # figure height in pixels\n",
    "    template='gridon',            # 'ggplot2', 'seaborn', 'simple_white', 'plotly',\n",
    "                                  # 'plotly_white', 'plotly_dark', 'presentation',\n",
    "                                  # 'xgridoff', 'ygridoff', 'gridon', 'none'\n",
    "\n",
    "    # animation_frame='year',     # assign marks to animation frames\n",
    "    # # animation_group=,         # use only when df has multiple rows with same object\n",
    "    # # range_x=[5,50],           # set range of x-axis\n",
    "    # range_y=[0,9000],           # set range of x-axis\n",
    "    # category_orders={'year':    # force a specific ordering of values per column\n",
    "    # [2013,2012,2011,2010,2009,2008,2007,2006,2005,2004,2003,2002,2001]},\n",
    "\n",
    ")\n",
    "\n",
    "barchart.show()"
   ]
  },
  {
   "cell_type": "markdown",
   "metadata": {},
   "source": [
    "The barchart below shows the amount of crimes commited by crime per day of the week. It allows the user to select from a list of crimes."
   ]
  },
  {
   "cell_type": "code",
   "execution_count": 198,
   "metadata": {},
   "outputs": [
    {
     "data": {
      "text/html": [
       "\n",
       "        <iframe\n",
       "            width=\"100%\"\n",
       "            height=\"650\"\n",
       "            src=\"http://127.0.0.1:8051/\"\n",
       "            frameborder=\"0\"\n",
       "            allowfullscreen\n",
       "            \n",
       "        ></iframe>\n",
       "        "
      ],
      "text/plain": [
       "<IPython.lib.display.IFrame at 0x231ec30a130>"
      ]
     },
     "metadata": {},
     "output_type": "display_data"
    }
   ],
   "source": [
    "\n",
    "\n",
    "# you need to include __name__ in your Dash constructor if\n",
    "# you plan to use a custom CSS or JavaScript in your Dash apps\n",
    "app = JupyterDash(__name__)\n",
    "\n",
    "#---------------------------------------------------------------\n",
    "#cf = px.data.tips()\n",
    "days = bk_dash_df[\"OFNS_DESC\"].unique()\n",
    "\n",
    "\n",
    "\n",
    "\n",
    "\n",
    "app.layout = html.Div([\n",
    "    dcc.Dropdown(\n",
    "        id=\"dropdown\",\n",
    "        options=[{\"label\": x, \"value\": x} for x in days],\n",
    "        value=days[0],\n",
    "        clearable=False,\n",
    "    ),\n",
    "    dcc.Graph(id=\"bar-chart\"),\n",
    "])\n",
    "\n",
    "@app.callback(\n",
    "    Output(\"bar-chart\", \"figure\"), \n",
    "    [Input(\"dropdown\", \"value\")])\n",
    "def update_bar_chart(day):\n",
    "    mask = df[\"OFNS_DESC\"] == day\n",
    "    fig = px.bar(df[mask], x='DAY_OF_THE_WEEK', #y=\"total_bill\", \n",
    "                color=\"AGE_GROUP\",\n",
    "                title='Day of the week and age group by crime type',\n",
    "                 #barmode=\"relative\"\n",
    "                 )\n",
    "    return fig\n",
    "\n",
    "\n",
    "\n",
    "app.run_server(mode='inline',port=8051)"
   ]
  }
 ],
 "metadata": {
  "interpreter": {
   "hash": "b3ba2566441a7c06988d0923437866b63cedc61552a5af99d1f4fb67d367b25f"
  },
  "kernelspec": {
   "display_name": "Python 3.8.8 64-bit ('base': conda)",
   "language": "python",
   "name": "python3"
  },
  "language_info": {
   "codemirror_mode": {
    "name": "ipython",
    "version": 3
   },
   "file_extension": ".py",
   "mimetype": "text/x-python",
   "name": "python",
   "nbconvert_exporter": "python",
   "pygments_lexer": "ipython3",
   "version": "3.8.8"
  },
  "orig_nbformat": 4
 },
 "nbformat": 4,
 "nbformat_minor": 2
}
